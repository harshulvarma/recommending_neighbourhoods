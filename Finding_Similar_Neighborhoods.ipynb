{
 "cells": [
  {
   "cell_type": "markdown",
   "metadata": {},
   "source": [
    "# Finding Similar Neighbourhoods -Toronto\n",
    "###### -Harshul Varma"
   ]
  },
  {
   "cell_type": "markdown",
   "metadata": {},
   "source": [
    "***"
   ]
  },
  {
   "cell_type": "markdown",
   "metadata": {},
   "source": [
    "## Table of Contents\n",
    "\n",
    "[1.0 Introduction](#introduction)<br>\n",
    "[2.0 Dataset](#dataset)<br>\n",
    "&nbsp;&nbsp;[2.1 Importing Libraries](#2.1)<br>\n",
    "&nbsp;&nbsp;[2.2 Toronto Postal Code Borough and Neighbourhood Data - Scraping, Cleaning, Analysing and Preparing](#2.2)<br>\n",
    "&nbsp;&nbsp;[2.3 Getting venues for each Postal area - Foursquare API](#2.3)<br>\n",
    "[3.0 Finding Most Common Venues in each Postal Area](#3.0)<br>\n",
    "[4.0 Clustering Postal Areas : K-means](#4.0)<br>\n",
    "[5.0 What venues are the most important? - Decision Tree](#5.0)<br>\n",
    "[6.0 Which Neighbourhood is the most similar?](#6.0)<br>"
   ]
  },
  {
   "cell_type": "markdown",
   "metadata": {},
   "source": [
    "***"
   ]
  },
  {
   "cell_type": "markdown",
   "metadata": {},
   "source": [
    "## 1.0 Introduction <a id='introduction'></a>"
   ]
  },
  {
   "cell_type": "markdown",
   "metadata": {},
   "source": [
    "Toronto is one of the major metropolitan cities and Canada with a population of ~2.7 million spread across 12 Boroughs, 180 Postal Code (FSA), and 210 Neighbourhoods. Lately, the rise in population, more job opportunities and ever-increasing Toronto rent forces a lot of recent graduates and young adults (like me) to rent new condos around the Toronto area. Since every people have their preferences of the area, they want to live in based on amenities such as food, recreation, nightlife etc. available in the neighbourhoods, this project will aim to find similar neighbourhoods that people prefer to make their move easier. This project also can be used by real estate agents to understand their client needs and make recommendations based on a concrete data. Furthermore, the model can be used to find similar neighbourhoods in different cities to make moving easier, for example a person moving from Toronto to Montreal can find a similar neighbourhood."
   ]
  },
  {
   "cell_type": "markdown",
   "metadata": {},
   "source": [
    "***"
   ]
  },
  {
   "cell_type": "markdown",
   "metadata": {},
   "source": [
    "## 2.0 Data <a id='dataset'></a>"
   ]
  },
  {
   "cell_type": "markdown",
   "metadata": {},
   "source": [
    "In order to build a robust model, I will be using various data sources, and most of the project time will be spent on collecting, cleaning and preparing data. The following data sets have been collected or scraped from websites:\n",
    "- Toronto Postal Codes and respective Neighbourhoods and Borough (https://en.wikipedia.org/wiki/List_of_postal_codes_of_Canada:_M) \n",
    "- Toronto Postal Codes boundaries (https://github.com/ag2816/Visualizations/tree/master/data)\n",
    "- Toronto Latitude and Longitude for each Postal area (Python Geocoder)\n",
    "- Toronto Population and Dwelling counts for each Postal area (https://www12.statcan.gc.ca/census-recensement/2016/dp-pd/hlt-fst/pd-pl/Table.cfm?Lang=Eng&T=1201&SR=1&S=22&O=A&RPP=9999&PR=0) \n",
    "- Different Categories of Venues available in each area (Foursquare API)\n",
    "\n",
    "Although population and dwelling data will be considered but will be dropped in case it skews the model a lot. \n"
   ]
  },
  {
   "cell_type": "markdown",
   "metadata": {},
   "source": [
    "### 2.1 Importing Libraries <a id='2.1'></a>"
   ]
  },
  {
   "cell_type": "code",
   "execution_count": 1,
   "metadata": {},
   "outputs": [],
   "source": [
    "#Loading Libraries\n",
    "from bs4 import BeautifulSoup as soup\n",
    "from urllib.request import urlopen as uReq \n",
    "\n",
    "import numpy as np\n",
    "import pandas as pd\n",
    "import folium\n",
    "\n",
    "from geopy.geocoders import Nominatim\n",
    "import requests\n",
    "\n",
    "from sklearn.cluster import KMeans\n",
    "from sklearn import tree\n",
    "from sklearn import metrics\n",
    "from sklearn import preprocessing\n",
    "from sklearn.metrics.pairwise import euclidean_distances\n",
    "\n",
    "import matplotlib.pyplot as plt\n",
    "import matplotlib.cm as cm\n",
    "import matplotlib.colors as colors"
   ]
  },
  {
   "cell_type": "markdown",
   "metadata": {},
   "source": [
    "###  2.2 Toronto Postal Code Borough and Neighbourhood Data - Scraping, Cleaning, Analysing and Preparing <a id='2.2'></a>"
   ]
  },
  {
   "cell_type": "markdown",
   "metadata": {},
   "source": [
    " Let's start by scraping GTA borough and neighbourhood data from wikipedia page. We will use BeautifulSoup library for this.\n"
   ]
  },
  {
   "cell_type": "code",
   "execution_count": 2,
   "metadata": {},
   "outputs": [],
   "source": [
    "#Reading the url\n",
    "my_url = 'https://en.wikipedia.org/wiki/List_of_postal_codes_of_Canada:_M'\n",
    "uClient = uReq(my_url)\n",
    "page_html = uClient.read()\n",
    "uClient.close()"
   ]
  },
  {
   "cell_type": "code",
   "execution_count": 3,
   "metadata": {},
   "outputs": [],
   "source": [
    "#parsing the html page\n",
    "page_soup = soup(page_html,\"html.parser\")"
   ]
  },
  {
   "cell_type": "code",
   "execution_count": 4,
   "metadata": {},
   "outputs": [],
   "source": [
    "#Converting the table to a list\n",
    "table = page_soup.find(\"table\",{\"class\":\"wikitable sortable\"})\n",
    "table_rows = table.find_all('tr')\n",
    "\n",
    "data = []\n",
    "for tr in table_rows:\n",
    "    td = tr.find_all('td')\n",
    "    row = [i.text.strip() for i in td if i.text.strip()]\n",
    "    if row:\n",
    "        data.append(row)"
   ]
  },
  {
   "cell_type": "markdown",
   "metadata": {},
   "source": [
    " Now that we have converted the tabel to a list, we can form a dataframe using pandas and start cleaning up our data."
   ]
  },
  {
   "cell_type": "code",
   "execution_count": 5,
   "metadata": {},
   "outputs": [],
   "source": [
    "df = pd.DataFrame(data, columns=[\"PostalCode\", \"Borough\", \"Neighbourhood\"])"
   ]
  },
  {
   "cell_type": "code",
   "execution_count": 6,
   "metadata": {},
   "outputs": [
    {
     "data": {
      "text/html": [
       "<div>\n",
       "<style scoped>\n",
       "    .dataframe tbody tr th:only-of-type {\n",
       "        vertical-align: middle;\n",
       "    }\n",
       "\n",
       "    .dataframe tbody tr th {\n",
       "        vertical-align: top;\n",
       "    }\n",
       "\n",
       "    .dataframe thead th {\n",
       "        text-align: right;\n",
       "    }\n",
       "</style>\n",
       "<table border=\"1\" class=\"dataframe\">\n",
       "  <thead>\n",
       "    <tr style=\"text-align: right;\">\n",
       "      <th></th>\n",
       "      <th>PostalCode</th>\n",
       "      <th>Borough</th>\n",
       "      <th>Neighbourhood</th>\n",
       "    </tr>\n",
       "  </thead>\n",
       "  <tbody>\n",
       "    <tr>\n",
       "      <th>0</th>\n",
       "      <td>M1A</td>\n",
       "      <td>Not assigned</td>\n",
       "      <td>Not assigned</td>\n",
       "    </tr>\n",
       "    <tr>\n",
       "      <th>1</th>\n",
       "      <td>M2A</td>\n",
       "      <td>Not assigned</td>\n",
       "      <td>Not assigned</td>\n",
       "    </tr>\n",
       "    <tr>\n",
       "      <th>2</th>\n",
       "      <td>M3A</td>\n",
       "      <td>North York</td>\n",
       "      <td>Parkwoods</td>\n",
       "    </tr>\n",
       "    <tr>\n",
       "      <th>3</th>\n",
       "      <td>M4A</td>\n",
       "      <td>North York</td>\n",
       "      <td>Victoria Village</td>\n",
       "    </tr>\n",
       "    <tr>\n",
       "      <th>4</th>\n",
       "      <td>M5A</td>\n",
       "      <td>Downtown Toronto</td>\n",
       "      <td>Harbourfront</td>\n",
       "    </tr>\n",
       "  </tbody>\n",
       "</table>\n",
       "</div>"
      ],
      "text/plain": [
       "  PostalCode           Borough     Neighbourhood\n",
       "0        M1A      Not assigned      Not assigned\n",
       "1        M2A      Not assigned      Not assigned\n",
       "2        M3A        North York         Parkwoods\n",
       "3        M4A        North York  Victoria Village\n",
       "4        M5A  Downtown Toronto      Harbourfront"
      ]
     },
     "execution_count": 6,
     "metadata": {},
     "output_type": "execute_result"
    }
   ],
   "source": [
    "df.head()"
   ]
  },
  {
   "cell_type": "code",
   "execution_count": 7,
   "metadata": {},
   "outputs": [
    {
     "name": "stdout",
     "output_type": "stream",
     "text": [
      "Toronto has 12 Boroughs, 180 Postal Code Areas, and 209 Neighbourhoods\n"
     ]
    }
   ],
   "source": [
    "print('Toronto has {} Boroughs, {} Postal Code Areas, and {} Neighbourhoods'.format(df.Borough.nunique(),df.PostalCode.nunique(),df.Neighbourhood.nunique()))"
   ]
  },
  {
   "cell_type": "code",
   "execution_count": 8,
   "metadata": {},
   "outputs": [],
   "source": [
    "df = df[df.Borough != \"Not assigned\"]\n",
    "df = df.groupby(['PostalCode','Borough'], as_index=False, sort=False).agg(','.join)\n",
    "df['Neighbourhood'] = df['Neighbourhood'].replace(\"Not assigned\",df['Borough'])"
   ]
  },
  {
   "cell_type": "code",
   "execution_count": 9,
   "metadata": {},
   "outputs": [
    {
     "data": {
      "text/html": [
       "<div>\n",
       "<style scoped>\n",
       "    .dataframe tbody tr th:only-of-type {\n",
       "        vertical-align: middle;\n",
       "    }\n",
       "\n",
       "    .dataframe tbody tr th {\n",
       "        vertical-align: top;\n",
       "    }\n",
       "\n",
       "    .dataframe thead th {\n",
       "        text-align: right;\n",
       "    }\n",
       "</style>\n",
       "<table border=\"1\" class=\"dataframe\">\n",
       "  <thead>\n",
       "    <tr style=\"text-align: right;\">\n",
       "      <th></th>\n",
       "      <th>PostalCode</th>\n",
       "      <th>Borough</th>\n",
       "      <th>Neighbourhood</th>\n",
       "    </tr>\n",
       "  </thead>\n",
       "  <tbody>\n",
       "    <tr>\n",
       "      <th>0</th>\n",
       "      <td>M3A</td>\n",
       "      <td>North York</td>\n",
       "      <td>Parkwoods</td>\n",
       "    </tr>\n",
       "    <tr>\n",
       "      <th>1</th>\n",
       "      <td>M4A</td>\n",
       "      <td>North York</td>\n",
       "      <td>Victoria Village</td>\n",
       "    </tr>\n",
       "    <tr>\n",
       "      <th>2</th>\n",
       "      <td>M5A</td>\n",
       "      <td>Downtown Toronto</td>\n",
       "      <td>Harbourfront,Regent Park</td>\n",
       "    </tr>\n",
       "    <tr>\n",
       "      <th>3</th>\n",
       "      <td>M6A</td>\n",
       "      <td>North York</td>\n",
       "      <td>Lawrence Heights,Lawrence Manor</td>\n",
       "    </tr>\n",
       "    <tr>\n",
       "      <th>4</th>\n",
       "      <td>M7A</td>\n",
       "      <td>Queen's Park</td>\n",
       "      <td>Queen's Park</td>\n",
       "    </tr>\n",
       "  </tbody>\n",
       "</table>\n",
       "</div>"
      ],
      "text/plain": [
       "  PostalCode           Borough                    Neighbourhood\n",
       "0        M3A        North York                        Parkwoods\n",
       "1        M4A        North York                 Victoria Village\n",
       "2        M5A  Downtown Toronto         Harbourfront,Regent Park\n",
       "3        M6A        North York  Lawrence Heights,Lawrence Manor\n",
       "4        M7A      Queen's Park                     Queen's Park"
      ]
     },
     "execution_count": 9,
     "metadata": {},
     "output_type": "execute_result"
    }
   ],
   "source": [
    "df.head()"
   ]
  },
  {
   "cell_type": "markdown",
   "metadata": {},
   "source": [
    "Now let us add the co-ordinates, population and dwellings for each postal area"
   ]
  },
  {
   "cell_type": "markdown",
   "metadata": {},
   "source": [
    "Location data - "
   ]
  },
  {
   "cell_type": "code",
   "execution_count": 10,
   "metadata": {},
   "outputs": [],
   "source": [
    "geo_url = 'http://cocl.us/Geospatial_data'\n",
    "geodf = pd.read_csv(geo_url)"
   ]
  },
  {
   "cell_type": "markdown",
   "metadata": {},
   "source": [
    "Population and Dwellings data -"
   ]
  },
  {
   "cell_type": "code",
   "execution_count": null,
   "metadata": {},
   "outputs": [],
   "source": [
    "to_pop = pd.read_csv('toronto_data/to_pop.csv',encoding='windows-1252')"
   ]
  },
  {
   "cell_type": "code",
   "execution_count": null,
   "metadata": {},
   "outputs": [],
   "source": [
    "to_pop = to_pop.drop(columns=['Geographic name','Province or territory','Incompletely enumerated Indian reserves and Indian settlements, 2016','Private dwellings occupied by usual residents, 2016'])\n",
    "to_pop.columns = ['PostalCode','Population','Dwellings']"
   ]
  },
  {
   "cell_type": "code",
   "execution_count": null,
   "metadata": {},
   "outputs": [],
   "source": [
    "newdf = pd.merge(df,geodf,left_on='PostalCode',right_on='Postal Code')\n",
    "newdf = newdf.drop(columns='Postal Code')"
   ]
  },
  {
   "cell_type": "markdown",
   "metadata": {},
   "source": [
    "Let's see our data with co-ordinates added."
   ]
  },
  {
   "cell_type": "code",
   "execution_count": null,
   "metadata": {},
   "outputs": [],
   "source": [
    "newdf.head()"
   ]
  },
  {
   "cell_type": "markdown",
   "metadata": {},
   "source": [
    "Adding Population and Dwellings data-"
   ]
  },
  {
   "cell_type": "code",
   "execution_count": null,
   "metadata": {},
   "outputs": [],
   "source": [
    "final_df = pd.merge(newdf,to_pop,left_on='PostalCode',right_on='PostalCode')"
   ]
  },
  {
   "cell_type": "code",
   "execution_count": null,
   "metadata": {},
   "outputs": [],
   "source": [
    "final_df.head()"
   ]
  },
  {
   "cell_type": "markdown",
   "metadata": {},
   "source": [
    "Finally let's check if our datframes have any null values."
   ]
  },
  {
   "cell_type": "code",
   "execution_count": null,
   "metadata": {},
   "outputs": [],
   "source": [
    "check1 = final_df.isnull().any()\n",
    "check2 = newdf.isnull().any()"
   ]
  },
  {
   "cell_type": "code",
   "execution_count": null,
   "metadata": {},
   "outputs": [],
   "source": [
    "print(check1)\n",
    "print(check2)"
   ]
  },
  {
   "cell_type": "markdown",
   "metadata": {},
   "source": [
    "We are good to proceed!"
   ]
  },
  {
   "cell_type": "markdown",
   "metadata": {},
   "source": [
    "## 2.3 Getting venues for each Postal area - Foursquare API <a id='2.3'></a>"
   ]
  },
  {
   "cell_type": "markdown",
   "metadata": {},
   "source": [
    "Entering Foursquare API credentials-"
   ]
  },
  {
   "cell_type": "code",
   "execution_count": null,
   "metadata": {},
   "outputs": [],
   "source": [
    "CLIENT_ID = ''\n",
    "CLIENT_SECRET = '' # your Foursquare Secret\n",
    "VERSION = '20180605' # Foursquare API version\n",
    "LIMIT = '100'\n",
    "\n",
    "print('Your credentails:')\n",
    "print('CLIENT_ID: ' + CLIENT_ID)\n",
    "print('CLIENT_SECRET:' + CLIENT_SECRET)\n",
    "print('LIMIT:' + LIMIT)"
   ]
  },
  {
   "cell_type": "markdown",
   "metadata": {},
   "source": [
    "Foursquare API returns very specific categories, but for our case we need generalized categories such as Food, Hotel, Nightlife etc. Below is a function that will return the parent category for each venue.\n",
    "More about foursquare API categories can be seen here: https://developer.foursquare.com/docs/resources/categories"
   ]
  },
  {
   "cell_type": "code",
   "execution_count": null,
   "metadata": {},
   "outputs": [],
   "source": [
    "url = \"https://api.foursquare.com/v2/venues/categories?client_id={}&client_secret={}&v={}\".format(\n",
    "    CLIENT_ID, \n",
    "    CLIENT_SECRET, \n",
    "    VERSION )\n",
    "response = requests.get(url)\n",
    "cats = {}\n",
    "\n",
    "def crawl(catlist=response.json()['response'], parents=[]):\n",
    "    for c in catlist['categories']:\n",
    "        cats[c['name']] = parents + [c['name']]\n",
    "        crawl(c, parents + [c['name']])\n",
    "        \n",
    "crawl()"
   ]
  },
  {
   "cell_type": "markdown",
   "metadata": {},
   "source": [
    "Function to get nearby venues for given co-ordinates:"
   ]
  },
  {
   "cell_type": "code",
   "execution_count": null,
   "metadata": {},
   "outputs": [],
   "source": [
    "def getNearbyVenues(fsa, latitudes, longitudes, radius=1200):\n",
    "    \n",
    "    venues_list=[]\n",
    "    for fsa, lat, lng in zip(fsa, latitudes, longitudes):\n",
    "        \n",
    "\n",
    "            \n",
    "        # create the API request URL\n",
    "        url = 'https://api.foursquare.com/v2/venues/explore?&client_id={}&client_secret={}&v={}&ll={},{}&radius={}&limit={}'.format(\n",
    "            CLIENT_ID, \n",
    "            CLIENT_SECRET, \n",
    "            VERSION, \n",
    "            lat, \n",
    "            lng, \n",
    "            radius, \n",
    "            LIMIT)\n",
    "            \n",
    "        # make the GET request\n",
    "        results = requests.get(url).json()[\"response\"]['groups'][0]['items']\n",
    "        \n",
    "        # return only relevant information for each nearby venue\n",
    "        venues_list.append([(\n",
    "            fsa, \n",
    "            lat, \n",
    "            lng, \n",
    "            v['venue']['name'], \n",
    "            v['venue']['location']['lat'], \n",
    "            v['venue']['location']['lng'],  \n",
    "            v['venue']['categories'][0]['name'],\n",
    "            cats[v['venue']['categories'][0]['name']][0]) for v in results])\n",
    "\n",
    "    nearby_venues = pd.DataFrame([item for venue_list in venues_list for item in venue_list])\n",
    "    nearby_venues.columns = ['PostalCode', \n",
    "                  'Latitude', \n",
    "                  'Longitude', \n",
    "                  'Venue', \n",
    "                  'Venue Latitude', \n",
    "                  'Venue Longitude', \n",
    "                  'Venue Category',\n",
    "                   'Venue General Category']\n",
    "    \n",
    "    return(nearby_venues)"
   ]
  },
  {
   "cell_type": "markdown",
   "metadata": {},
   "source": [
    "Retrieving venues for toronto's postal ares -\n",
    "\n",
    "(Note: We are using the dataframe without population and dwellings as it was skewing results for our final model)"
   ]
  },
  {
   "cell_type": "code",
   "execution_count": null,
   "metadata": {},
   "outputs": [],
   "source": [
    "toronto_venues = getNearbyVenues(fsa=newdf['PostalCode'],\n",
    "                                   latitudes=newdf['Latitude'],\n",
    "                                   longitudes=newdf['Longitude']\n",
    "                                  )"
   ]
  },
  {
   "cell_type": "markdown",
   "metadata": {},
   "source": [
    "Let's look at the retireved venues table-"
   ]
  },
  {
   "cell_type": "code",
   "execution_count": null,
   "metadata": {},
   "outputs": [],
   "source": [
    "toronto_venues.head()"
   ]
  },
  {
   "cell_type": "code",
   "execution_count": null,
   "metadata": {},
   "outputs": [],
   "source": [
    "print('{} venues were retrieved and stored'.format(toronto_venues.shape[0]))"
   ]
  },
  {
   "cell_type": "code",
   "execution_count": null,
   "metadata": {},
   "outputs": [],
   "source": [
    "address = 'Toronto, ON'\n",
    "\n",
    "geolocator = Nominatim(user_agent=\"to_explorer\")\n",
    "location = geolocator.geocode(address)\n",
    "latitude = location.latitude\n",
    "longitude = location.longitude\n",
    "print('The geograpical coordinate of Toronto are {}, {}.'.format(latitude, longitude))"
   ]
  },
  {
   "cell_type": "markdown",
   "metadata": {},
   "source": [
    "Toronto postal area boundaries - "
   ]
  },
  {
   "cell_type": "code",
   "execution_count": null,
   "metadata": {},
   "outputs": [],
   "source": [
    "to_geo = 'toronto_data/torontogeo.geojson'"
   ]
  },
  {
   "cell_type": "markdown",
   "metadata": {},
   "source": [
    "Visualising all the Venues retrieved:\n",
    "    \n",
    "(Since the file is too big to display on python, it is saved and a screen shot can be seen in the report an presentation)"
   ]
  },
  {
   "cell_type": "code",
   "execution_count": null,
   "metadata": {},
   "outputs": [],
   "source": [
    "to_venues = folium.Map(location=[latitude, longitude], zoom_start=10)\n",
    "\n",
    "folium.GeoJson(\n",
    "    to_geo,\n",
    "    name='geojson'\n",
    ").add_to(to_venues)\n",
    "\n",
    "for lat, lng, venue in zip(toronto_venues['Venue Latitude'], toronto_venues['Venue Longitude'], toronto_venues['Venue']):\n",
    "    label = '{}'.format(venue)\n",
    "    label = folium.Popup(label, parse_html=True)\n",
    "    folium.CircleMarker(\n",
    "        [lat, lng],\n",
    "        radius=1,\n",
    "        popup=label,\n",
    "        color='red',\n",
    "        fill=True,\n",
    "        fill_color='red',\n",
    "        fill_opacity=0.7,\n",
    "        parse_html=False).add_to(to_venues)  \n",
    "    \n",
    "to_venues.save('to_venues.html')"
   ]
  },
  {
   "cell_type": "markdown",
   "metadata": {},
   "source": [
    "## 3.0 Finding Most Common Venues in each Postal Area <a id='3.0'></a>"
   ]
  },
  {
   "cell_type": "markdown",
   "metadata": {},
   "source": [
    "We start by converting each venue's general category to a one hot vector and see how many general venue categories are present in each postal area."
   ]
  },
  {
   "cell_type": "code",
   "execution_count": null,
   "metadata": {},
   "outputs": [],
   "source": [
    "# one hot encoding of venue category\n",
    "df_venues_onehot = pd.get_dummies(toronto_venues[['Venue General Category']], prefix=\"\", prefix_sep=\"\")\n",
    "\n",
    "# add other columns back to the dataframe\n",
    "df_venues_onehot['PostalCode'] = toronto_venues['PostalCode']\n",
    "\n",
    "# move those column to the first column\n",
    "fixed_columns = list(df_venues_onehot.columns[-1:]) + list(df_venues_onehot.columns[:-1])\n",
    "df_venues_onehot = df_venues_onehot[fixed_columns]\n",
    "\n",
    "df_venues_grouped = df_venues_onehot.groupby(['PostalCode']).sum().reset_index()\n",
    "\n",
    "df_venues_grouped.head()"
   ]
  },
  {
   "cell_type": "markdown",
   "metadata": {},
   "source": [
    "Function to return most common venues for each area - "
   ]
  },
  {
   "cell_type": "code",
   "execution_count": null,
   "metadata": {},
   "outputs": [],
   "source": [
    "def return_most_common_venues(row, num_top_venues):\n",
    "    row_categories = row.iloc[2:]\n",
    "    row_categories_sorted = row_categories.sort_values(ascending=False)\n",
    "    return row_categories_sorted.index.values[0:num_top_venues]"
   ]
  },
  {
   "cell_type": "markdown",
   "metadata": {},
   "source": [
    "We will only store and use Top 5 most common venue categories"
   ]
  },
  {
   "cell_type": "code",
   "execution_count": null,
   "metadata": {},
   "outputs": [],
   "source": [
    "num_top_venues = 5\n",
    "\n",
    "# create columns according to number of top venues\n",
    "columns = ['PostalCode']\n",
    "for ind in np.arange(num_top_venues):\n",
    "    columns.append('Common Venue {}'.format(ind+1))\n",
    "\n",
    "# create a new dataframe\n",
    "df_common_venues = pd.DataFrame(columns=columns)\n",
    "df_common_venues['PostalCode'] = df_venues_grouped['PostalCode']\n",
    "\n",
    "# counting\n",
    "for ind in np.arange(df_venues_grouped.shape[0]):\n",
    "    df_common_venues.iloc[ind, 1:] = return_most_common_venues(df_venues_grouped.iloc[ind, :], num_top_venues)"
   ]
  },
  {
   "cell_type": "code",
   "execution_count": null,
   "metadata": {},
   "outputs": [],
   "source": [
    "df_common_venues.head()"
   ]
  },
  {
   "cell_type": "markdown",
   "metadata": {},
   "source": [
    "## 4.0 Clustering Postal Areas : K-means <a id='4.0'></a>"
   ]
  },
  {
   "cell_type": "markdown",
   "metadata": {},
   "source": [
    "Firstly the one hot matrix will be normalized -"
   ]
  },
  {
   "cell_type": "code",
   "execution_count": null,
   "metadata": {},
   "outputs": [],
   "source": [
    "# normalize over all columns except the 'PostalCode' column.\n",
    "collist = df_venues_grouped.columns.tolist()\n",
    "collist.remove('PostalCode')\n",
    "df_venues_grouped[collist] = df_venues_grouped[collist].div(df_venues_grouped.sum(axis=1), axis=0)\n",
    "\n",
    "df_venues_grouped.head()"
   ]
  },
  {
   "cell_type": "code",
   "execution_count": null,
   "metadata": {},
   "outputs": [],
   "source": [
    "df_grouped_clustering = df_venues_grouped.drop('PostalCode', 1)"
   ]
  },
  {
   "cell_type": "markdown",
   "metadata": {},
   "source": [
    "Let us use the normalized matrix for k-means clustering. We will analyse which k value return the most accurate result."
   ]
  },
  {
   "cell_type": "code",
   "execution_count": null,
   "metadata": {},
   "outputs": [],
   "source": [
    "START = 2\n",
    "END = 40\n",
    "scores = []\n",
    "for k in range(START, END):\n",
    "    # run k-means clustering, but drop the first column (buurtcode)\n",
    "    kmeans = KMeans(n_clusters=k, random_state=0).fit(df_grouped_clustering)\n",
    "    \n",
    "    scores.append(metrics.silhouette_score(df_grouped_clustering, kmeans.labels_))   \n",
    "print( \"maximum is {}, which occurs at k={}\".format(np.max(scores),np.argmax(scores)+START))\n",
    "kclusters=np.argmax(scores)+START\n",
    "plt.plot(range(START,END),scores)"
   ]
  },
  {
   "cell_type": "markdown",
   "metadata": {},
   "source": [
    "We can see the most optimal k value is 2. But since 2 clusters will be too less for our analysis we will look for another value. By inspecting the plot and using elbow method we see k=14 is a good choice"
   ]
  },
  {
   "cell_type": "code",
   "execution_count": null,
   "metadata": {},
   "outputs": [],
   "source": [
    "kclusters = 14\n",
    "\n",
    "# run k-means clustering\n",
    "kmeans = KMeans(n_clusters=kclusters, random_state=0).fit(df_grouped_clustering)\n",
    "\n",
    "# check cluster labels generated for each row in the dataframe\n",
    "kmeans.labels_[0:] "
   ]
  },
  {
   "cell_type": "code",
   "execution_count": null,
   "metadata": {},
   "outputs": [],
   "source": [
    "# add clustering labels\n",
    "df_common_venues.insert(0, 'Cluster Labels', kmeans.labels_)"
   ]
  },
  {
   "cell_type": "markdown",
   "metadata": {},
   "source": [
    "Let's finally add everything togather into one matrix"
   ]
  },
  {
   "cell_type": "code",
   "execution_count": null,
   "metadata": {},
   "outputs": [],
   "source": [
    "toronto_merged = newdf\n",
    "\n",
    "# merge toronto_grouped with toronto_data to add latitude/longitude for each neighborhood\n",
    "toronto_merged = pd.merge(df_common_venues,toronto_merged,left_on='PostalCode', right_on='PostalCode')\n",
    "\n",
    "toronto_merged = toronto_merged[pd.notnull(toronto_merged['Cluster Labels'])]\n",
    "toronto_merged['Cluster Labels'] = toronto_merged['Cluster Labels'].astype(int)\n",
    "\n",
    "toronto_merged.head()"
   ]
  },
  {
   "cell_type": "markdown",
   "metadata": {},
   "source": [
    "Visualising Toronto Postal area clusters - "
   ]
  },
  {
   "cell_type": "code",
   "execution_count": null,
   "metadata": {},
   "outputs": [],
   "source": [
    "# create map\n",
    "map_clusters = folium.Map(location=[latitude, longitude], zoom_start=10) \n",
    " \n",
    "folium.Choropleth(\n",
    "    geo_data=to_geo,\n",
    "    name='Toronto FSA Clusters',\n",
    "    data=toronto_merged,\n",
    "    columns=['PostalCode', 'Cluster Labels'],\n",
    "    key_on='feature.properties.CFSAUID',\n",
    "    fill_color = 'Set3'\n",
    ").add_to(map_clusters) \n",
    "\n",
    "map_clusters"
   ]
  },
  {
   "cell_type": "code",
   "execution_count": null,
   "metadata": {},
   "outputs": [],
   "source": [
    "clusters = toronto_merged.groupby(['Cluster Labels'], as_index=False, sort=False).agg(','.join)\n",
    "clusters = clusters.drop(columns = ['Common Venue 1','Common Venue 2','Common Venue 3','Common Venue 4','Common Venue 5','Borough'])\n",
    "clusters['Count'] = toronto_merged.groupby('Cluster Labels')['PostalCode'].count()\n",
    "clusters.columns = ['Cluster Labels','Similar Postal Areas','Similar Neighbourhoods','Number of Postal Areas']\n",
    "\n",
    "pd.options.display.max_columns = None\n",
    "pd.options.display.max_rows = None\n",
    "pd.options.display.max_colwidth = 1000\n",
    "display(clusters)"
   ]
  },
  {
   "cell_type": "markdown",
   "metadata": {},
   "source": [
    "## 5.0 What venues are the most important? - Decision Tree <a id='5.0'></a>"
   ]
  },
  {
   "cell_type": "markdown",
   "metadata": {},
   "source": [
    "In order to determine which Neighbourhood/Postal Area is the most similar to the one user is currently living in, we will use a Decision Tree to find the most important features (venues)"
   ]
  },
  {
   "cell_type": "markdown",
   "metadata": {},
   "source": [
    "Let's start by forming our features matrix (X) - Venue One Hot Values for each Postal Area  and labels matrix (y) - Cluster label for each Postal Area"
   ]
  },
  {
   "cell_type": "code",
   "execution_count": null,
   "metadata": {},
   "outputs": [],
   "source": [
    "X = df_venues_onehot.groupby(['PostalCode']).sum().reset_index().drop(['PostalCode'],axis=1)\n"
   ]
  },
  {
   "cell_type": "code",
   "execution_count": null,
   "metadata": {},
   "outputs": [],
   "source": [
    "Y = toronto_merged['Cluster Labels']"
   ]
  },
  {
   "cell_type": "code",
   "execution_count": null,
   "metadata": {},
   "outputs": [],
   "source": [
    "clf = tree.DecisionTreeClassifier(criterion='entropy' )\n",
    "clf = clf.fit(X, Y)"
   ]
  },
  {
   "cell_type": "markdown",
   "metadata": {},
   "source": [
    "Let's view the top features in Toronto"
   ]
  },
  {
   "cell_type": "code",
   "execution_count": null,
   "metadata": {},
   "outputs": [],
   "source": [
    "df_topfeatures = pd.DataFrame({'Feature': X.columns.values, 'Importance':clf.feature_importances_}).sort_values(by='Importance', ascending=False).head().reset_index()\n",
    "df_topfeatures = df_topfeatures.drop(columns='index')\n",
    "df_topfeatures"
   ]
  },
  {
   "cell_type": "markdown",
   "metadata": {},
   "source": [
    "Not a surprise that Toronto loves Food! Thanks to the multicultural diverse population."
   ]
  },
  {
   "cell_type": "markdown",
   "metadata": {},
   "source": [
    "## 6.0 Which Neighbourhood is the most similar? <a id='6.0'></a>"
   ]
  },
  {
   "cell_type": "markdown",
   "metadata": {},
   "source": [
    "For this case, we will use the M5V Postal Areas which happens to be the area I currenlty live in."
   ]
  },
  {
   "cell_type": "code",
   "execution_count": null,
   "metadata": {},
   "outputs": [],
   "source": [
    "toronto_merged[toronto_merged['PostalCode']=='M5V']"
   ]
  },
  {
   "cell_type": "markdown",
   "metadata": {},
   "source": [
    "Above is the information for M5V Postal Area, Let us use our Tree model to find the most similar Areas to M5V"
   ]
  },
  {
   "cell_type": "code",
   "execution_count": null,
   "metadata": {},
   "outputs": [],
   "source": [
    "#M5V is at row 68\n",
    "CurrentFSA = df_venues_grouped.loc[68,:].drop('PostalCode')\n",
    "toronto_merged['dist_CurrentFSA'] = df_venues_grouped[df_venues_grouped.columns[1:]].apply(lambda x: sum((CurrentFSA - x)**2)**.5, axis=1)\n",
    "top5 = toronto_merged.sort_values(by='dist_CurrentFSA').head(6)\n",
    "top5"
   ]
  },
  {
   "cell_type": "markdown",
   "metadata": {},
   "source": [
    "let us visualise the areas using a choropleth map categorised by the \"Most Similar to M5V\", The more 'Red' the more similar, the more 'Green' the further the neighbourhood venues."
   ]
  },
  {
   "cell_type": "code",
   "execution_count": null,
   "metadata": {},
   "outputs": [],
   "source": [
    "dist_map = folium.Map(location=[latitude, longitude],zoom_start=10)\n",
    "\n",
    "\n",
    "folium.Choropleth(\n",
    "    geo_data=to_geo,\n",
    "    name='Distance to Current FSA',\n",
    "    data=toronto_merged,\n",
    "    columns=['PostalCode', 'dist_CurrentFSA'],\n",
    "    key_on='feature.properties.CFSAUID',\n",
    "    fill_color='RdYlGn',\n",
    "    fill_opacity=0.7,\n",
    "    line_opacity=0.2,\n",
    "    legend_name='Distance to Current FSA'\n",
    ").add_to(dist_map)\n",
    "\n",
    "dist_map"
   ]
  },
  {
   "cell_type": "markdown",
   "metadata": {},
   "source": [
    "Finally Let's see what venues there are in common and we can make our Final Choice from the top recommendations!"
   ]
  },
  {
   "cell_type": "code",
   "execution_count": null,
   "metadata": {},
   "outputs": [],
   "source": [
    "features = df_topfeatures['Feature'].values.tolist()\n",
    "pd.merge(top5, df_venues_onehot.groupby('PostalCode').sum()[features], on='PostalCode')[ ['PostalCode'] + df_topfeatures['Feature'].values.tolist()]\n"
   ]
  },
  {
   "cell_type": "markdown",
   "metadata": {},
   "source": [
    "##### For future, this model can be used to compare postal areas between cities, for eg, if someone wants to move from Toronto to Montreal in a similar Neighbourhood."
   ]
  }
 ],
 "metadata": {
  "kernelspec": {
   "display_name": "Python 3",
   "language": "python",
   "name": "python3"
  },
  "language_info": {
   "codemirror_mode": {
    "name": "ipython",
    "version": 3
   },
   "file_extension": ".py",
   "mimetype": "text/x-python",
   "name": "python",
   "nbconvert_exporter": "python",
   "pygments_lexer": "ipython3",
   "version": "3.6.7"
  }
 },
 "nbformat": 4,
 "nbformat_minor": 2
}
